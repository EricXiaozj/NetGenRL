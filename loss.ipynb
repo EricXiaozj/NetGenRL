{
 "cells": [
  {
   "cell_type": "code",
   "execution_count": null,
   "metadata": {},
   "outputs": [],
   "source": [
    "import matplotlib.pyplot as plt\n",
    "import re"
   ]
  },
  {
   "cell_type": "code",
   "execution_count": null,
   "metadata": {},
   "outputs": [],
   "source": [
    "log_file_path = 'cgan.log'  \n",
    "\n",
    "d_losses = []\n",
    "g_losses = []\n",
    "    \n",
    "with open(log_file_path, 'r') as file:\n",
    "    for line in file:\n",
    "        match = re.search(r\"D Loss: (-?\\d+\\.\\d+)\", line)\n",
    "        if match:\n",
    "            d_losses.append(float(match.group(1)))\n",
    "        \n",
    "        match = re.search(r\"G Loss: (-?\\d+\\.\\d+)\", line)\n",
    "        if match:\n",
    "            g_losses.append(float(match.group(1)))\n",
    "\n",
    "plt.figure(figsize=(10, 5))\n",
    "plt.plot(d_losses, label='Discriminator Loss')\n",
    "plt.plot(g_losses, label='Generator Loss')\n",
    "plt.title('WGAN Loss during Training')\n",
    "plt.xlabel('Iterations')\n",
    "plt.ylabel('Loss')\n",
    "plt.legend()\n",
    "plt.show()"
   ]
  }
 ],
 "metadata": {
  "kernelspec": {
   "display_name": "base",
   "language": "python",
   "name": "python3"
  },
  "language_info": {
   "codemirror_mode": {
    "name": "ipython",
    "version": 3
   },
   "file_extension": ".py",
   "mimetype": "text/x-python",
   "name": "python",
   "nbconvert_exporter": "python",
   "pygments_lexer": "ipython3",
   "version": "3.12.2"
  }
 },
 "nbformat": 4,
 "nbformat_minor": 2
}
